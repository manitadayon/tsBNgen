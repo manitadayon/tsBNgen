{
 "cells": [
  {
   "cell_type": "markdown",
   "metadata": {},
   "source": [
    "## Examples Companion with Documentation\n",
    "\n",
    "**Description**\n",
    "> #### tsBNgen is a Python library to generate time series data based on an arbitrary dynamic Bayesian network. The intention behind writing tsBNgen is to let researchers geenrate time series data according to arbitrary model they want. \n",
    "\n",
    "> #### tsBNgen is released under the MIT license. \n",
    "\n",
    "**Instruction** \n",
    "\n",
    "> #### 1. Either clone this repository https://github.com/manitadayon/tsBNgen or install the package using pip install tsBNgen.\n",
    "> #### Then import necessary libraries using the following commands:\n",
    "```python\n",
    "from tsBNgen import *\n",
    "from tsBNgen.tsBNgen import *  \n",
    "```\n",
    "> #### There are in general two functions you should be running if you want to generate data:\n",
    "\n",
    "> - BN_data_gen(): Use this function under the following conditions:\n",
    "      custom_time variable is not specified and the value of the loopback for all the variables is at most 1.\n",
    "    \n",
    "---- \n",
    "\n",
    "**Note**: condition 1 describes the classical dynamic Bayesian network in which some nodes at time t-1 are connected to themselves at time t. \n",
    "\n",
    "> - BN_sample_gen_loopback(): \n",
    "    1. custom_time is not specified and you want the loopback value for some nodes to be at most 2.\n",
    "    2. custom_time is specified and it is at least equal to the maximum loopback value of the loopbacks2.\n",
    "\n",
    "> #### Following are the explanation of the some of the variables and parameters in tsBNgen:\n",
    "> -    **T** : Length of each time series.\n",
    "> -    **N** : Number of samples.\n",
    "> -    **N_level** : list. Number of possible levels for discrete nodes.\n",
    "> -    **Mat** : data-frame. Adjacency matrix for each time point.\n",
    "> -    **Node_Type** :list. Type of each variable in Bayesian Network.\n",
    "> -    **CPD** : dict. Conditonal Probability Distribution for initial time point.\n",
    "> -    **Parent** : dict. Identifying parent of each node in Bayesian network at initial time.\n",
    "> -    **CPD2** : dict. Conditonal Probability Distribution.\n",
    "> -    **Parent2** : dict. Identifying parent of each node in Bayesian network.\n",
    "> -    **loopbacks** : dict. Describing the temporal interconnection between nodes.\n",
    "> -    **CPD3** : dict. Conditonal Probability Distribution. Use this entry when BN_sample_gen_loopback() is called.\n",
    "> -    **Parent3** : dict. Identifying parent of each node in Bayesian network. Use this entry when  \n",
    ">      BN_sample_gen_loopback() is called.\n",
    "> -    **loopback2** : dict. Describing the temporal interconnection between nodes. Use this entry when  \n",
    ">      BN_sample_gen_loopback() is called.\n",
    "      \n",
    " \n"
   ]
  },
  {
   "cell_type": "markdown",
   "metadata": {},
   "source": [
    "### Import Necessary Files"
   ]
  },
  {
   "cell_type": "code",
   "execution_count": 2,
   "metadata": {},
   "outputs": [],
   "source": [
    "from tsBNgen import *\n",
    "from tsBNgen.tsBNgen import *        "
   ]
  },
  {
   "cell_type": "markdown",
   "metadata": {},
   "source": [
    "## Architecture 1\n",
    "\n",
    "### Two Discerete and One Continuous Nodes."
   ]
  },
  {
   "cell_type": "code",
   "execution_count": 3,
   "metadata": {},
   "outputs": [],
   "source": [
    "T=20\n",
    "N=2000\n",
    "N_level=[2,4]\n",
    "Mat=pd.DataFrame(np.array(([0,1,1],[0,0,1],[0,0,0])))\n",
    "Node_Type=['D','D','C']\n",
    "CPD={'0':[0.6,0.4],'01':[[0.5,0.3,0.15,0.05],[0.1,0.15,0.3,0.45]],'012':{'mu0':10,'sigma0':2,'mu1':30,'sigma1':5,\n",
    "    'mu2':50,'sigma2':5,'mu3':70,'sigma3':5,'mu4':15,'sigma4':5,'mu5':50,'sigma5':5,'mu6':70,'sigma6':5,'mu7':90,'sigma7':3\n",
    "}}\n",
    "Parent={'0':[],'1':[0],'2':[0,1]}\n",
    "\n",
    "CPD2={'00':[[0.7,0.3],[0.2,0.8]],'011':[[0.7,0.2,0.1,0],[0.6,0.3,0.05,0.05],[0.35,0.5,0.15,0],\n",
    "[0.2,0.3,0.4,0.1],[0.3,0.3,0.2,0.2],[0.1,0.2,0.3,0.4],[0.05,0.15,0.3,0.5],[0,0.05,0.25,0.7]],'012':{'mu0':10,'sigma0':2,'mu1':30,'sigma1':5,\n",
    "    'mu2':50,'sigma2':5,'mu3':70,'sigma3':5,'mu4':15,'sigma4':5,'mu5':50,'sigma5':5,'mu6':70,'sigma6':5,'mu7':90,'sigma7':3\n",
    "}}\n",
    "\n",
    "Parent2={'0':[0],'1':[0,1],'2':[0,1]}\n",
    "loopbacks={'00':[1],'11':[1]}\n",
    "Parent2={'0':[0],'1':[0,1],'2':[0,1]}\n",
    "Time_series1=tsBNgen(T,N,N_level,Mat,Node_Type,CPD,Parent,CPD2,Parent2,loopbacks)\n",
    "Time_series1.BN_data_gen()"
   ]
  },
  {
   "cell_type": "code",
   "execution_count": 4,
   "metadata": {},
   "outputs": [
    {
     "name": "stdout",
     "output_type": "stream",
     "text": [
      "[1, 1, 2, 2, 2, 2, 2, 2, 1, 2, 2, 1, 2, 2, 2, 2, 2, 1, 1, 1]\n",
      "[1, 1, 2, 2, 4, 4, 4, 3, 2, 3, 4, 2, 2, 4, 4, 3, 4, 3, 2, 1]\n",
      "[7.808894461133653, 11.32725466660192, 45.60586730086184, 49.417565048817615, 91.96224489111819, 90.60949019682866, 90.56676813839593, 63.41098040448917, 34.83786809684297, 69.03588167756895, 95.48196749276904, 22.059789834337842, 52.4413443699694, 89.17064709084299, 90.74716862100209, 75.25321342376877, 93.21277916279126, 53.755213101836375, 21.726853444296204, 11.167892171240036]\n"
     ]
    }
   ],
   "source": [
    "print(Time_series1.BN_Nodes[0][3])\n",
    "print(Time_series1.BN_Nodes[1][3])\n",
    "print(Time_series1.BN_Nodes[2][3])"
   ]
  },
  {
   "cell_type": "markdown",
   "metadata": {},
   "source": [
    "## Architecture 2\n"
   ]
  },
  {
   "cell_type": "code",
   "execution_count": 5,
   "metadata": {
    "scrolled": true
   },
   "outputs": [],
   "source": [
    "T=10\n",
    "N=1000\n",
    "N_level=[2,4]\n",
    "Mat=pd.DataFrame(np.array(([0,1,0],[0,0,1],[0,0,0])))\n",
    "Node_Type=['D','D','C']\n",
    "CPD={'0':[0.5,0.5],'01':[[0.6,0.3,0.05,0.05],[0.1,0.2,0.3,0.4]],'12':{'mu0':10,'sigma0':5,'mu1':30,'sigma1':5,\n",
    "    'mu2':60,'sigma2':5,'mu3':80,'sigma3':5}}\n",
    "Parent={'0':[],'1':[0],'2':[1]}\n",
    "\n",
    "CPD2={'00':[[0.7,0.3],[0.3,0.7]],'0011':[[0.7,0.2,0.1,0],[0.5,0.4,0.1,0],[0.45,0.45,0.1,0],\n",
    "[0.3,0.4,0.2,0.1],[0.4,0.4,0.1,0.1],[0.2,0.3,0.3,0.2],[0.2,0.3,0.3,0.2],[0.1,0.2,0.3,0.4],[0.3,0.4,0.2,0.1],[0.2,0.2,0.4,0.2],\n",
    " [0.2,0.1,0.4,0.3],[0.05,0.15,0.3,0.5],[0.1,0.3,0.3,0.3],[0,0.1,0.3,0.6],[0,0.1,0.2,0.7],[0,0,0.3,0.7]],'112':{'mu0':10,'sigma0':2,'mu1':30,'sigma1':2,\n",
    "    'mu2':50,'sigma2':2,'mu3':60,'sigma3':5,'mu4':20,'sigma4':2,'mu5':25,'sigma5':5,'mu6':50,'sigma6':5,'mu7':60,'sigma7':5,\n",
    "   'mu8':40,'sigma8':5,'mu9':50,'sigma9':5,'mu10':70,'sigma10':5,'mu11':85,'sigma11':2,'mu12':60,'sigma12':5, \n",
    "    'mu13':60,'sigma13':5,'mu14':80,'sigma14':3,'mu15':90,'sigma15':3}}\n",
    "\n",
    "Parent2={'0':[0],'1':[0,0,1],'2':[1,1]}\n",
    "loopbacks={'00':[1], '01':[1],'11':[1],'12':[1]}\n",
    "\n",
    "Time_series2=tsBNgen(T,N,N_level,Mat,Node_Type,CPD,Parent,CPD2,Parent2,loopbacks)\n",
    "Time_series2.BN_data_gen()"
   ]
  },
  {
   "cell_type": "code",
   "execution_count": 6,
   "metadata": {},
   "outputs": [
    {
     "name": "stdout",
     "output_type": "stream",
     "text": [
      "[2, 2, 2, 2, 2, 1, 1, 2, 2, 2]\n",
      "[3, 4, 3, 4, 3, 3, 2, 1, 4, 4]\n",
      "[49.95557580237343, 81.91935377141675, 80.02776603979912, 82.7514263833196, 78.09782664417831, 62.4090858819203, 43.79221621872338, 18.10747482296797, 52.72102411795976, 91.61301738516033]\n"
     ]
    }
   ],
   "source": [
    "print(Time_series2.BN_Nodes[0][3])\n",
    "print(Time_series2.BN_Nodes[1][3])\n",
    "print(Time_series2.BN_Nodes[2][3])"
   ]
  },
  {
   "cell_type": "markdown",
   "metadata": {},
   "source": [
    "## Architecture 3\n",
    "\n",
    "### Similar to Architecture 1 but with loopback 2 for the middle node."
   ]
  },
  {
   "cell_type": "code",
   "execution_count": 8,
   "metadata": {},
   "outputs": [],
   "source": [
    "T=10\n",
    "N=1000\n",
    "N_level=[2,4]\n",
    "Mat=pd.DataFrame(np.array(([0,1,1],[0,0,1],[0,0,0])))\n",
    "Node_Type=['D','D','C']\n",
    "\n",
    "CPD={'0':[0.6,0.4],'01':[[0.5,0.3,0.15,0.05],[0.1,0.15,0.3,0.45]],'012':{'mu0':10,'sigma0':2,'mu1':30,'sigma1':5,\n",
    "    'mu2':50,'sigma2':5,'mu3':70,'sigma3':5,'mu4':15,'sigma4':5,'mu5':50,'sigma5':5,'mu6':70,'sigma6':5,'mu7':90,'sigma7':3\n",
    "}}\n",
    "Parent={'0':[],'1':[0],'2':[0,1]}\n",
    "\n",
    "\n",
    "CPD2={'00':[[0.7,0.3],[0.2,0.8]],'011':[[0.7,0.2,0.1,0],[0.6,0.3,0.05,0.05],[0.35,0.5,0.15,0],\n",
    "[0.2,0.3,0.4,0.1],[0.3,0.3,0.2,0.2],[0.1,0.2,0.3,0.4],[0.05,0.15,0.3,0.5],[0,0.05,0.25,0.7]],'012':{'mu0':10,'sigma0':2,'mu1':30,'sigma1':5,\n",
    "    'mu2':50,'sigma2':5,'mu3':70,'sigma3':5,'mu4':15,'sigma4':5,'mu5':50,'sigma5':5,'mu6':70,'sigma6':5,'mu7':90,'sigma7':3\n",
    "}}\n",
    "\n",
    "Parent2={'0':[0],'1':[0,1],'2':[0,1]}\n",
    "\n",
    "loopbacks={'00':[1],'11':[1]}\n",
    "\n",
    "CPD3={'00':[[0.7,0.3],[0.2,0.8]],'0111':[[0.7,0.2,0.1,0],[0.6,0.3,0.1,0],[0.3,0.5,0.2,0],\n",
    "[0.3,0.4,0.15,0.15],[0.5,0.4,0.05,0.05],[0.5,0.4,0.05,0.05],[0.25,0.45,0.15,0.15],[0.2,0.4,0.3,0.1],[0.3,0.5,0.2,0],[0.25,0.45,0.15,0.15],\n",
    "[0.1,0.45,0.3,0.15],[0.05,0.45,0.3,0.2],[0.3,0.4,0.15,0.15],[0.2,0.4,0.3,0.1],[0.05,0.45,0.3,0.2],[0.1,0.3,0.4,0.2],[0.35,0.35,0.2,0.1],[0.25,0.45,0.2,0.1],[0.1,0.2,0.5,0.2],[0.05,0.25,0.5,0.2],\n",
    "[0.25,0.45,0.2,0.1],[0.05,0.35,0.5,0.1],[0.05,0.25,0.45,0.25],[0.05,0.2,0.35,0.4],[0.1,0.2,0.5,0],[0.05,0.25,0.45,0.25],[0.05,0.15,0.3,0.5],\n",
    " [0.05,0.1,0.3,0.55],[0.05,0.25,0.5,0.2],[0.05,0.2,0.35,0.4],[0.05,0.1,0.3,0.55],[0,0,0.2,0.8]],'012':{'mu0':10,'sigma0':2,'mu1':20,'sigma1':3,\n",
    "    'mu2':50,'sigma2':5,'mu3':70,'sigma3':5,'mu4':15,'sigma4':5,'mu5':50,'sigma5':5,'mu6':75,'sigma6':3,'mu7':90,'sigma7':3\n",
    "}}\n",
    "\n",
    "Parent3={'0':[0],'1':[0,1,1],'2':[0,1]}\n",
    "\n",
    "loopbacks2={'00':[1],'11':[2,1]}\n",
    "\n",
    "\n",
    "Time_series3=tsBNgen(T,N,N_level,Mat,Node_Type,CPD,Parent,CPD2,Parent2,loopbacks,CPD3,Parent3,loopbacks2)\n",
    "\n",
    "Time_series3.BN_sample_gen_loopback()"
   ]
  },
  {
   "cell_type": "code",
   "execution_count": 9,
   "metadata": {},
   "outputs": [
    {
     "name": "stdout",
     "output_type": "stream",
     "text": [
      "[2, 1, 1, 2, 2, 2, 1, 1, 2, 2]\n",
      "[2, 1, 1, 1, 2, 3, 4, 3, 4, 2]\n",
      "[53.87472154213914, 6.495627168596188, 9.418392120518126, 19.646516517998936, 44.525380117118665, 75.87802769068614, 75.68517757174538, 56.29952829580641, 93.33191414647266, 45.862343348068705]\n"
     ]
    }
   ],
   "source": [
    "print((Time_series3.BN_Nodes[0][1]))\n",
    "print(Time_series3.BN_Nodes[1][1])\n",
    "print(Time_series3.BN_Nodes[2][1])"
   ]
  },
  {
   "cell_type": "markdown",
   "metadata": {},
   "source": [
    "## Architecture 4\n",
    "\n",
    "### 3 Discerete and 3 Continuous Nodes. Each Node is Connected to Itself Across Time"
   ]
  },
  {
   "cell_type": "code",
   "execution_count": 13,
   "metadata": {},
   "outputs": [],
   "source": [
    "T=10\n",
    "N=1000\n",
    "N_level=[2,2,2]\n",
    "Mat=pd.DataFrame(np.array(([0,1,1,1,1],[0,0,1,1,1],[0,0,0,1,1],[0,0,0,0,0],[0,0,0,0,0]))) \n",
    "Node_Type=['D','D','D','C','C']\n",
    "\n",
    "CPD={'0':[0.6,.04],'01':[[0.7,0.3],[0.3,0.7]],'012':[[0.9,0.1],[0.4,0.6],[0.6,0.4],[0.1,0.9]],\n",
    "   '0123':{'mu0':5,'sigma0':2,'mu1':10,'sigma1':3,'mu2':20,'sigma2':2,'mu3':50,'sigma3':3,'mu4':20,'sigma4':2,'mu5':40,'sigma5':3,'mu6':50,'sigma6':5,'mu7':80,'sigma7':3,\n",
    "          },'0124':{'mu0':500,'sigma0':10,'mu1':480,'sigma1':13,'mu2':450,'sigma2':10,'mu3':400,'sigma3':13,'mu4':400,'sigma4':10,'mu5':300,'sigma5':10,'mu6':250,'sigma6':10,'mu7':100,'sigma7':5}}\n",
    "\n",
    "Parent={'0':[],'1':[0],'2':[0,1],'3':[0,1,2],'4':[0,1,2]}\n",
    "\n",
    "CPD2={'00':[[0.6,0.4],[0.2,0.8]],'011':[[0.8,0.2],[0.6,0.4],[0.7,0.3],[0.2,0.8]],\n",
    "      '0122':[[0.9,0.1],[0.7,0.3],[0.7,0.3],[0.28,0.78],[0.7,0.3],[0.28,0.72],[0.28,0.72],[0.1,0.9]],'01233':{'33':{'coefficient':[np.linspace(0.6,0.8,8).tolist()]},'sigma_intercept':np.linspace(0.6,3,8).tolist(),'sigma':np.linspace(3,4,8).tolist()},'01244':{'44':{'coefficient':[np.linspace(0.6,1.3,8).tolist()]},\n",
    "    'sigma_intercept':np.linspace(2,5,8).tolist(),'sigma':np.linspace(3,4,8).tolist()}}\n",
    "\n",
    "\n",
    "loopbacks={'00':[1],'11':[1],'22':[1],'33':[1],'44':[1]}  \n",
    "\n",
    "Parent2={'0':[0],'1':[0,1],'2':[0,1,2],'3':[0,1,2,3],'4':[0,1,2,4]}\n",
    "\n",
    "\n",
    "Time_series4=tsBNgen(T,N,N_level,Mat,Node_Type,CPD,Parent,CPD2,Parent2,loopbacks)\n",
    "\n",
    "Time_series4.BN_data_gen() "
   ]
  },
  {
   "cell_type": "markdown",
   "metadata": {},
   "source": [
    "## Architecture 5\n",
    "\n",
    "### HMM with loopback 1 "
   ]
  },
  {
   "cell_type": "code",
   "execution_count": 18,
   "metadata": {},
   "outputs": [
    {
     "name": "stdout",
     "output_type": "stream",
     "text": [
      "Total Time is 2.0737037658691406\n"
     ]
    }
   ],
   "source": [
    "import time\n",
    "START=time.time()\n",
    "T=20\n",
    "N=1000\n",
    "N_level=[4]\n",
    "Mat=pd.DataFrame(np.array(([0,1],[0,0]))) # HMM\n",
    "Node_Type=['D','C']\n",
    "\n",
    "CPD={'0':[0.25,0.25,0.25,0.25],'01':{'mu0':20,'sigma0':5,'mu1':40,'sigma1':5,\n",
    "    'mu2':60,'sigma2':5,'mu3':80,'sigma3':5}}\n",
    "\n",
    "Parent={'0':[],'1':[0]}\n",
    "\n",
    "\n",
    "CPD2={'00':[[0.6,0.3,0.05,0.05],[0.25,0.4,0.25,0.1],[0.1,0.3,0.4,0.2],[0.05,0.05,0.4,0.5]],'01':{'mu0':20,'sigma0':5,'mu1':40,'sigma1':5,\n",
    "    'mu2':60,'sigma2':5,'mu3':80,'sigma3':5\n",
    "}}\n",
    "\n",
    "loopbacks={'00':[1]}\n",
    "\n",
    "Parent2={'0':[0],'1':[0]}\n",
    "\n",
    "\n",
    "Time_series5=tsBNgen(T,N,N_level,Mat,Node_Type,CPD,Parent,CPD2,Parent2,loopbacks)\n",
    "\n",
    "Time_series5.BN_data_gen() \n",
    "FINISH=time.time()\n",
    "print('Total Time is',FINISH-START)"
   ]
  },
  {
   "cell_type": "code",
   "execution_count": 19,
   "metadata": {
    "scrolled": true
   },
   "outputs": [
    {
     "name": "stdout",
     "output_type": "stream",
     "text": [
      "[3, 4, 3, 1, 2, 2, 2, 3, 3, 4, 4, 4, 4, 4, 4, 4, 4, 3, 4, 3]\n",
      "[60.072920827425, 82.74836461790208, 57.3652355700002, 15.808715408345048, 42.11400427111718, 33.940916747529904, 39.38294267545808, 56.77532334095553, 55.225363073651565, 80.31120583537712, 72.83731788645105, 78.75540628414659, 83.74799152447356, 80.85359737561909, 83.89681465845214, 73.10191951112242, 83.32808287493899, 52.70302656588948, 74.34544473307433, 61.67002934637476]\n"
     ]
    }
   ],
   "source": [
    "print(Time_series5.BN_Nodes[0][1])\n",
    "print(Time_series5.BN_Nodes[1][1])"
   ]
  },
  {
   "cell_type": "code",
   "execution_count": null,
   "metadata": {},
   "outputs": [],
   "source": []
  }
 ],
 "metadata": {
  "kernelspec": {
   "display_name": "Python 3",
   "language": "python",
   "name": "python3"
  },
  "language_info": {
   "codemirror_mode": {
    "name": "ipython",
    "version": 3
   },
   "file_extension": ".py",
   "mimetype": "text/x-python",
   "name": "python",
   "nbconvert_exporter": "python",
   "pygments_lexer": "ipython3",
   "version": "3.8.2"
  }
 },
 "nbformat": 4,
 "nbformat_minor": 4
}
