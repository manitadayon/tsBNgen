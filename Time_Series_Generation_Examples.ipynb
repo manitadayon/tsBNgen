{
 "cells": [
  {
   "cell_type": "code",
   "execution_count": 1,
   "metadata": {},
   "outputs": [],
   "source": [
    "from tsBNgen import *\n",
    "from tsBNgen.tsBNgen import *        "
   ]
  },
  {
   "cell_type": "markdown",
   "metadata": {},
   "source": [
    "## Architecture 1\n",
    "\n",
    "### Two Discerete and One Continuous Nodes."
   ]
  },
  {
   "cell_type": "code",
   "execution_count": 2,
   "metadata": {},
   "outputs": [],
   "source": [
    "T=20\n",
    "N=2000\n",
    "N_level=[2,4]\n",
    "Mat=pd.DataFrame(np.array(([0,1,1],[0,0,1],[0,0,0])))\n",
    "Node_Type=['D','D','C']\n",
    "CPD={'0':[0.6,0.4],'01':[[0.5,0.3,0.15,0.05],[0.1,0.15,0.3,0.45]],'012':{'mu0':10,'sigma0':2,'mu1':30,'sigma1':5,\n",
    "    'mu2':50,'sigma2':5,'mu3':70,'sigma3':5,'mu4':15,'sigma4':5,'mu5':50,'sigma5':5,'mu6':70,'sigma6':5,'mu7':90,'sigma7':3\n",
    "}}\n",
    "Parent={'0':[],'1':[0],'2':[0,1]}\n",
    "\n",
    "CPD2={'00':[[0.7,0.3],[0.2,0.8]],'011':[[0.7,0.2,0.1,0],[0.6,0.3,0.05,0.05],[0.35,0.5,0.15,0],\n",
    "[0.2,0.3,0.4,0.1],[0.3,0.3,0.2,0.2],[0.1,0.2,0.3,0.4],[0.05,0.15,0.3,0.5],[0,0.05,0.25,0.7]],'012':{'mu0':10,'sigma0':2,'mu1':30,'sigma1':5,\n",
    "    'mu2':50,'sigma2':5,'mu3':70,'sigma3':5,'mu4':15,'sigma4':5,'mu5':50,'sigma5':5,'mu6':70,'sigma6':5,'mu7':90,'sigma7':3\n",
    "}}\n",
    "\n",
    "Parent2={'0':[0],'1':[0,1],'2':[0,1]}\n",
    "CPD3={}\n",
    "\n",
    "Parent3={}\n",
    "\n",
    "loopbacks={'00':[1],'11':[1]}\n",
    "\n",
    "loopbacks2={}\n",
    "Parent2={'0':[0],'1':[0,1],'2':[0,1]}\n",
    "Time_series1=tsBNgen(T,N,N_level,Mat,Node_Type,CPD,Parent,CPD2,Parent2,CPD3,Parent3,loopbacks,loopbacks2)\n",
    "Time_series1.BN_data_gen()"
   ]
  },
  {
   "cell_type": "code",
   "execution_count": 3,
   "metadata": {},
   "outputs": [
    {
     "name": "stdout",
     "output_type": "stream",
     "text": [
      "[1, 2, 1, 1, 2, 2, 1, 1, 2, 2, 2, 1, 1, 2, 2, 2, 2, 2, 2, 1]\n",
      "[1, 4, 4, 3, 2, 2, 1, 3, 2, 3, 4, 1, 1, 4, 4, 4, 4, 4, 4, 2]\n",
      "[10.706183542375447, 88.74058096561241, 70.67027466856162, 51.8449318274258, 60.39986761440959, 58.87910801315719, 10.838118698916563, 49.70991413352374, 53.55027728926519, 66.96562292579185, 94.12082647658508, 5.6173945136245536, 10.935891508812464, 91.93597191332235, 88.32609417369066, 93.62175349703278, 87.52628306966761, 87.18510979676343, 94.92848510484392, 29.388433653493934]\n"
     ]
    }
   ],
   "source": [
    "print(Time_series1.BN_Nodes[0][3])\n",
    "print(Time_series1.BN_Nodes[1][3])\n",
    "print(Time_series1.BN_Nodes[2][3])"
   ]
  },
  {
   "cell_type": "markdown",
   "metadata": {},
   "source": [
    "## Architecture 2\n"
   ]
  },
  {
   "cell_type": "code",
   "execution_count": 5,
   "metadata": {
    "scrolled": true
   },
   "outputs": [],
   "source": [
    "T=10\n",
    "N=1000\n",
    "N_level=[2,4]\n",
    "Mat=pd.DataFrame(np.array(([0,1,0],[0,0,1],[0,0,0])))\n",
    "Node_Type=['D','D','C']\n",
    "CPD={'0':[0.5,0.5],'01':[[0.6,0.3,0.05,0.05],[0.1,0.2,0.3,0.4]],'12':{'mu0':10,'sigma0':5,'mu1':30,'sigma1':5,\n",
    "    'mu2':60,'sigma2':5,'mu3':80,'sigma3':5}}\n",
    "Parent={'0':[],'1':[0],'2':[1]}\n",
    "\n",
    "CPD2={'00':[[0.7,0.3],[0.3,0.7]],'0011':[[0.7,0.2,0.1,0],[0.5,0.4,0.1,0],[0.45,0.45,0.1,0],\n",
    "[0.3,0.4,0.2,0.1],[0.4,0.4,0.1,0.1],[0.2,0.3,0.3,0.2],[0.2,0.3,0.3,0.2],[0.1,0.2,0.3,0.4],[0.3,0.4,0.2,0.1],[0.2,0.2,0.4,0.2],\n",
    " [0.2,0.1,0.4,0.3],[0.05,0.15,0.3,0.5],[0.1,0.3,0.3,0.3],[0,0.1,0.3,0.6],[0,0.1,0.2,0.7],[0,0,0.3,0.7]],'112':{'mu0':10,'sigma0':2,'mu1':30,'sigma1':2,\n",
    "    'mu2':50,'sigma2':2,'mu3':60,'sigma3':5,'mu4':20,'sigma4':2,'mu5':25,'sigma5':5,'mu6':50,'sigma6':5,'mu7':60,'sigma7':5,\n",
    "   'mu8':40,'sigma8':5,'mu9':50,'sigma9':5,'mu10':70,'sigma10':5,'mu11':85,'sigma11':2,'mu12':60,'sigma12':5, \n",
    "    'mu13':60,'sigma13':5,'mu14':80,'sigma14':3,'mu15':90,'sigma15':3}}\n",
    "\n",
    "Parent2={'0':[0],'1':[0,0,1],'2':[1,1]}\n",
    "loopbacks={'00':[1], '01':[1],'11':[1],'12':[1]}\n",
    "\n",
    "CPD3={}\n",
    "\n",
    "Parent3={}\n",
    "\n",
    "loopbacks2={}\n",
    "\n",
    "Time_series3=tsBNgen(T,N,N_level,Mat,Node_Type,CPD,Parent,CPD2,Parent2,CPD3,Parent3,loopbacks,loopbacks2)\n",
    "Time_series3.BN_data_gen()"
   ]
  },
  {
   "cell_type": "markdown",
   "metadata": {},
   "source": [
    "## Saving Data to a dataframe"
   ]
  },
  {
   "cell_type": "code",
   "execution_count": 4,
   "metadata": {},
   "outputs": [],
   "source": [
    "def Save_to_dataframe(Object,columns,subpath):\n",
    "    for ii in range(len(list(Object.BN_Nodes.keys()))): \n",
    "        Path=subpath+f'''{ii}'''+'.csv'  \n",
    "        df=pd.DataFrame(Object.BN_Nodes[ii],columns=columns)\n",
    "        df.to_csv(Path,index=False)\n",
    "\n",
    "\n",
    "\n"
   ]
  },
  {
   "cell_type": "markdown",
   "metadata": {},
   "source": [
    "## Architecture 3\n",
    "\n",
    "### Similar to Architecture 1 but with loopback 2 for the middle node."
   ]
  },
  {
   "cell_type": "code",
   "execution_count": 12,
   "metadata": {},
   "outputs": [],
   "source": [
    "T=10\n",
    "N=1000\n",
    "N_level=[2,4]\n",
    "Mat=pd.DataFrame(np.array(([0,1,1],[0,0,1],[0,0,0])))\n",
    "Node_Type=['D','D','C']\n",
    "\n",
    "CPD={'0':[0.6,0.4],'01':[[0.5,0.3,0.15,0.05],[0.1,0.15,0.3,0.45]],'012':{'mu0':10,'sigma0':2,'mu1':30,'sigma1':5,\n",
    "    'mu2':50,'sigma2':5,'mu3':70,'sigma3':5,'mu4':15,'sigma4':5,'mu5':50,'sigma5':5,'mu6':70,'sigma6':5,'mu7':90,'sigma7':3\n",
    "}}\n",
    "Parent={'0':[],'1':[0],'2':[0,1]}\n",
    "\n",
    "\n",
    "CPD2={'00':[[0.7,0.3],[0.2,0.8]],'011':[[0.7,0.2,0.1,0],[0.6,0.3,0.05,0.05],[0.35,0.5,0.15,0],\n",
    "[0.2,0.3,0.4,0.1],[0.3,0.3,0.2,0.2],[0.1,0.2,0.3,0.4],[0.05,0.15,0.3,0.5],[0,0.05,0.25,0.7]],'012':{'mu0':10,'sigma0':2,'mu1':30,'sigma1':5,\n",
    "    'mu2':50,'sigma2':5,'mu3':70,'sigma3':5,'mu4':15,'sigma4':5,'mu5':50,'sigma5':5,'mu6':70,'sigma6':5,'mu7':90,'sigma7':3\n",
    "}}\n",
    "\n",
    "Parent2={'0':[0],'1':[0,1],'2':[0,1]}\n",
    "\n",
    "loopbacks={'00':[1],'11':[1]}\n",
    "\n",
    "CPD3={'00':[[0.7,0.3],[0.2,0.8]],'0111':[[0.7,0.2,0.1,0],[0.6,0.3,0.1,0],[0.3,0.5,0.2,0],\n",
    "[0.3,0.4,0.15,0.15],[0.5,0.4,0.05,0.05],[0.5,0.4,0.05,0.05],[0.25,0.45,0.15,0.15],[0.2,0.4,0.3,0.1],[0.3,0.5,0.2,0],[0.25,0.45,0.15,0.15],\n",
    "[0.1,0.45,0.3,0.15],[0.05,0.45,0.3,0.2],[0.3,0.4,0.15,0.15],[0.2,0.4,0.3,0.1],[0.05,0.45,0.3,0.2],[0.1,0.3,0.4,0.2],[0.35,0.35,0.2,0.1],[0.25,0.45,0.2,0.1],[0.1,0.2,0.5,0.2],[0.05,0.25,0.5,0.2],\n",
    "[0.25,0.45,0.2,0.1],[0.05,0.35,0.5,0.1],[0.05,0.25,0.45,0.25],[0.05,0.2,0.35,0.4],[0.1,0.2,0.5,0],[0.05,0.25,0.45,0.25],[0.05,0.15,0.3,0.5],\n",
    " [0.05,0.1,0.3,0.55],[0.05,0.25,0.5,0.2],[0.05,0.2,0.35,0.4],[0.05,0.1,0.3,0.55],[0,0,0.2,0.8]],'012':{'mu0':10,'sigma0':2,'mu1':20,'sigma1':3,\n",
    "    'mu2':50,'sigma2':5,'mu3':70,'sigma3':5,'mu4':15,'sigma4':5,'mu5':50,'sigma5':5,'mu6':75,'sigma6':3,'mu7':90,'sigma7':3\n",
    "}}\n",
    "\n",
    "Parent3={'0':[0],'1':[0,1,1],'2':[0,1]}\n",
    "\n",
    "loopbacks2={'00':[1],'11':[2,1]}\n",
    "\n",
    "\n",
    "Time_series3=tsBNgen(T,N,N_level,Mat,Node_Type,CPD,Parent,CPD2,Parent2,CPD3,Parent3,loopbacks,loopbacks2)\n",
    "\n",
    "Time_series3.BN_sample_gen_loopback()"
   ]
  },
  {
   "cell_type": "code",
   "execution_count": 13,
   "metadata": {},
   "outputs": [
    {
     "name": "stdout",
     "output_type": "stream",
     "text": [
      "[1, 2, 2, 2, 2, 2, 2, 2, 2, 2]\n",
      "[2, 4, 4, 4, 4, 4, 4, 3, 3, 3]\n",
      "[30.21452148054182, 87.73953476977155, 87.3054002985911, 90.4223485967836, 93.54275278335174, 89.02201015812743, 87.37886346792257, 71.82941120959579, 79.92213341156824, 74.1645527009642]\n"
     ]
    }
   ],
   "source": [
    "print((Time_series3.BN_Nodes[0][1]))\n",
    "print(Time_series3.BN_Nodes[1][1])\n",
    "print(Time_series3.BN_Nodes[2][1])"
   ]
  },
  {
   "cell_type": "markdown",
   "metadata": {},
   "source": [
    "## Architecture 4\n",
    "\n",
    "### HMM with loopback 2"
   ]
  },
  {
   "cell_type": "code",
   "execution_count": 15,
   "metadata": {},
   "outputs": [],
   "source": [
    "T=20\n",
    "N=1000\n",
    "N_level=[4]\n",
    "Mat=pd.DataFrame(np.array(([0,1],[0,0]))) # HMM\n",
    "Node_Type=['D','C']\n",
    "\n",
    "CPD={'0':[0.25,0.25,0.25,0.25],'01':{'mu0':20,'sigma0':5,'mu1':40,'sigma1':5,\n",
    "    'mu2':60,'sigma2':5,'mu3':80,'sigma3':5}}\n",
    "\n",
    "Parent={'0':[],'1':[0]}\n",
    "\n",
    "\n",
    "CPD2={'00':[[0.5,0.4,0.1,0],[0.25,0.4,0.25,0.1],[0.1,0.3,0.3,0.3],[0,0.1,0.4,0.5]],'01':{'mu0':20,'sigma0':5,'mu1':40,'sigma1':5,\n",
    "    'mu2':60,'sigma2':5,'mu3':80,'sigma3':5\n",
    "}}\n",
    "\n",
    "Parent2={'0':[0],'1':[0]}\n",
    "\n",
    "loopbacks={'00':[1]}\n",
    "\n",
    "CPD3={'000':[[0.7,0.2,0.05,0.05],[0.5,0.3,0.1,0.1],[0.2,0.4,0.3,0.1],[0.1,0.4,0.3,0.2],[0.5,0.4,0.05,0.05],[0.2,0.6,0.1,0.1],\n",
    "             [0.1,0.4,0.3,0.2],[0.05,0.15,0.5,0.3],[0.1,0.5,0.2,0.2],[0.1,0.3,0.4,0.2],[0.1,0.1,0.5,0.3],[0.05,0.15,0.4,0.4],[0.1,0.2,0.3,0.4],[0.05,0.15,0.5,0.3],\n",
    "             [0,0.1,0.4,0.5],[0,0.05,0.25,0.7]],\n",
    "    '01':{'mu0':20,'sigma0':5,'mu1':40,'sigma1':5,'mu2':60,'sigma2':5,'mu3':80,'sigma3':5\n",
    "}}\n",
    "\n",
    "Parent3={'0':[0,0],'1':[0]}\n",
    "\n",
    "loopbacks2={'00':[2,1]}\n",
    "\n",
    "\n",
    "Time_series4=tsBNgen(T,N,N_level,Mat,Node_Type,CPD,Parent,CPD2,Parent2,CPD3,Parent3,loopbacks,loopbacks2)\n",
    "Time_series4.BN_sample_gen_loopback()"
   ]
  },
  {
   "cell_type": "code",
   "execution_count": 16,
   "metadata": {
    "scrolled": true
   },
   "outputs": [
    {
     "name": "stdout",
     "output_type": "stream",
     "text": [
      "[3, 2, 3, 2, 2, 2, 1, 2, 1, 1, 1, 1, 2, 1, 2, 1, 1, 1, 1, 1]\n",
      "[63.95051997691955, 48.090532180956885, 55.69361535522697, 40.77994912075139, 35.99632598429645, 51.595542672392085, 26.72096174824552, 50.05419867745453, 18.54258997134232, 22.975439068850974, 30.24328786202439, 15.274984214103842, 41.6950997915335, 22.981716652775518, 35.30426663882249, 19.13998847715548, 23.654632390720877, 25.66750113789159, 11.956231025945533, 13.70182629090311]\n"
     ]
    }
   ],
   "source": [
    "print(Time_series4.BN_Nodes[0][1])\n",
    "print(Time_series4.BN_Nodes[1][1])\n"
   ]
  },
  {
   "cell_type": "markdown",
   "metadata": {},
   "source": [
    "## Architecture 5\n",
    "\n",
    "### 3 Discerete and 3 Continuous Nodes. Each Node is Connected to Itself Across Time"
   ]
  },
  {
   "cell_type": "code",
   "execution_count": 18,
   "metadata": {},
   "outputs": [],
   "source": [
    "T=10\n",
    "N=1000\n",
    "N_level=[2,2,2]\n",
    "Mat=pd.DataFrame(np.array(([0,1,1,1,1],[0,0,1,1,1],[0,0,0,1,1],[0,0,0,0,0],[0,0,0,0,0]))) \n",
    "Node_Type=['D','D','D','C','C']\n",
    "\n",
    "CPD={'0':[0.6,.04],'01':[[0.7,0.3],[0.3,0.7]],'012':[[0.9,0.1],[0.4,0.6],[0.6,0.4],[0.1,0.9]],\n",
    "   '0123':{'mu0':5,'sigma0':2,'mu1':10,'sigma1':3,'mu2':20,'sigma2':2,'mu3':50,'sigma3':3,'mu4':20,'sigma4':2,'mu5':40,'sigma5':3,'mu6':50,'sigma6':5,'mu7':80,'sigma7':3,\n",
    "          },'0124':{'mu0':500,'sigma0':10,'mu1':480,'sigma1':13,'mu2':450,'sigma2':10,'mu3':400,'sigma3':13,'mu4':400,'sigma4':10,'mu5':300,'sigma5':10,'mu6':250,'sigma6':10,'mu7':100,'sigma7':5}}\n",
    "\n",
    "Parent={'0':[],'1':[0],'2':[0,1],'3':[0,1,2],'4':[0,1,2]}\n",
    "\n",
    "CPD2={'00':[[0.6,0.4],[0.2,0.8]],'011':[[0.8,0.2],[0.6,0.4],[0.7,0.3],[0.2,0.8]],\n",
    "      '0122':[[0.9,0.1],[0.7,0.3],[0.7,0.3],[0.28,0.78],[0.7,0.3],[0.28,0.72],[0.28,0.72],[0.1,0.9]],'01233':{'33':{'coefficient':[np.linspace(0.6,0.8,8).tolist()]},'sigma_intercept':np.linspace(0.6,3,8).tolist(),'sigma':np.linspace(3,4,8).tolist()},'01244':{'44':{'coefficient':[np.linspace(0.6,1.3,8).tolist()]},\n",
    "    'sigma_intercept':np.linspace(2,5,8).tolist(),'sigma':np.linspace(3,4,8).tolist()}}\n",
    "\n",
    "\n",
    "loopbacks={'00':[1],'11':[1],'22':[1],'33':[1],'44':[1]}  \n",
    "\n",
    "Parent2={'0':[0],'1':[0,1],'2':[0,1,2],'3':[0,1,2,3],'4':[0,1,2,4]}\n",
    "\n",
    "CPD3={}\n",
    "\n",
    "Parent3={}\n",
    "\n",
    "loopbacks2={}\n",
    "\n",
    "Time_series5=tsBNgen(T,N,N_level,Mat,Node_Type,CPD,Parent,CPD2,Parent2,CPD3,Parent3,loopbacks,loopbacks2)\n",
    "\n",
    "Time_series5.BN_data_gen() "
   ]
  }
 ],
 "metadata": {
  "kernelspec": {
   "display_name": "Python 3",
   "language": "python",
   "name": "python3"
  },
  "language_info": {
   "codemirror_mode": {
    "name": "ipython",
    "version": 3
   },
   "file_extension": ".py",
   "mimetype": "text/x-python",
   "name": "python",
   "nbconvert_exporter": "python",
   "pygments_lexer": "ipython3",
   "version": "3.8.2"
  }
 },
 "nbformat": 4,
 "nbformat_minor": 4
}
